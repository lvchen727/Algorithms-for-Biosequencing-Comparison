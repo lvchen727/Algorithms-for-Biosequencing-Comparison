{
 "cells": [
  {
   "cell_type": "code",
   "execution_count": 2,
   "metadata": {
    "collapsed": false
   },
   "outputs": [],
   "source": [
    "Alphabet = ['A','T','G','C','$']\n",
    "def rankAll(bwt):\n",
    "    cc={}\n",
    "    C = {}\n",
    "    rankall={}\n",
    "    for c in Alphabet:\n",
    "        cc[c] = 0\n",
    "        rankall[c] =[]\n",
    "        rankall[c].append(0)\n",
    "    for c in bwt :\n",
    "        cc[c] = cc[c]+1\n",
    "        for c in cc.iterkeys():\n",
    "            rankall[c].append(cc[c])\n",
    "    for base in Alphabet:\n",
    "        C[base] = 0\n",
    "        for c in Alphabet:\n",
    "            if c < base:\n",
    "                C[base] += cc[c]\n",
    "    return rankall, cc, C"
   ]
  },
  {
   "cell_type": "code",
   "execution_count": 3,
   "metadata": {
    "collapsed": false
   },
   "outputs": [
    {
     "name": "stdout",
     "output_type": "stream",
     "text": [
      "24\n",
      "{'A': [0, 1, 1, 1, 1, 1, 1, 2, 2, 2, 2, 3, 3, 4, 5, 5, 6, 6, 6, 6, 7, 8, 9, 10, 11], 'C': [0, 0, 0, 0, 0, 0, 0, 0, 0, 0, 0, 0, 0, 0, 0, 0, 0, 0, 0, 0, 0, 0, 0, 0, 0], 'T': [0, 0, 1, 2, 3, 4, 5, 5, 6, 7, 8, 8, 8, 8, 8, 9, 9, 10, 11, 12, 12, 12, 12, 12, 12], 'G': [0, 0, 0, 0, 0, 0, 0, 0, 0, 0, 0, 0, 0, 0, 0, 0, 0, 0, 0, 0, 0, 0, 0, 0, 0], '$': [0, 0, 0, 0, 0, 0, 0, 0, 0, 0, 0, 0, 1, 1, 1, 1, 1, 1, 1, 1, 1, 1, 1, 1, 1]} {'A': 11, 'C': 0, 'T': 12, 'G': 0, '$': 1} {'A': 1, 'C': 12, 'T': 12, 'G': 12, '$': 0}\n",
      "file loaded\n"
     ]
    }
   ],
   "source": [
    "#seq = 'ATTATTAATTATATTATAATATA'\n",
    "bwt =   'ATTTTTATTTA$AATATTTAAAAA'\n",
    "r_bwt = 'ATTTT$TATTTATATATTAAAAAA'\n",
    "\n",
    "\"\"\"\n",
    "path1 = \"/Users/Chen/Downloads/hu-chr1-bwts/hu-chr1.bwt.txt\"\n",
    "path2 = \"/Users/Chen/Downloads/hu-chr1-bwts/hu-chr1-rev.bwt.txt\"\n",
    "rdFile1 = open(path1, \"r\")\n",
    "bwt = rdFile1.read()\n",
    "rdFile1.close()\n",
    "rdFile2 = open(path2, \"r\")\n",
    "r_bwt = rdFile2.read()\n",
    "rdFile2.close()\n",
    "\"\"\"\n",
    "\n",
    "N = len(bwt)\n",
    "print N\n",
    "rankall, cc, C = rankAll(bwt)\n",
    "r_rankall, r_cc, r_C = rankAll(r_bwt)\n",
    "print rankall, cc, C\n",
    "print \"file loaded\""
   ]
  },
  {
   "cell_type": "code",
   "execution_count": 4,
   "metadata": {
    "collapsed": false
   },
   "outputs": [],
   "source": [
    "def extendLeft (((i,j), (r_i,r_j)), c):\n",
    "    ic = C[c] + rankall[c][i-1] + 1 \n",
    "    jc = C[c] + rankall[c][j] \n",
    "    r_ic = r_i\n",
    "    for base in Alphabet:\n",
    "        if base < c:\n",
    "            r_ic = r_ic + rankall[base][j] - rankall[base][i-1]\n",
    "    r_jc = r_ic + (jc - ic)\n",
    "    return (ic,jc), (r_ic, r_jc)"
   ]
  },
  {
   "cell_type": "code",
   "execution_count": 5,
   "metadata": {
    "collapsed": false
   },
   "outputs": [],
   "source": [
    "def extendRight ( ( (i,j), (r_i,r_j) ) , c):\n",
    "    r_ic = C[c] + r_rankall[c][r_i - 1] + 1\n",
    "    r_jc = C[c] + r_rankall[c][r_j]\n",
    "    ic = i\n",
    "    for base in Alphabet:\n",
    "        if base < c:\n",
    "            ic = ic + r_rankall[base][r_j] - r_rankall[base][r_i-1] \n",
    "            #print base, r_rankall[base][j] - r_rankall[base][i-1] , ic\n",
    "    jc = ic + (r_jc - r_ic)\n",
    "    return ( (ic,jc) , (r_ic,r_jc) )"
   ]
  },
  {
   "cell_type": "code",
   "execution_count": 6,
   "metadata": {
    "collapsed": false
   },
   "outputs": [],
   "source": [
    "def isValid (( (i,j), (r_i,r_j) )):\n",
    "    return j >= i and r_j >= r_j\n",
    "            \n",
    "def isRightMaximal( ((i,j) , (r_i,r_j)) ):\n",
    "    A = extendRight( ( (i,j) , (r_i,r_j)) , 'A' )\n",
    "    C = extendRight( ( (i,j) , (r_i,r_j)) , 'C' )\n",
    "    G = extendRight( ( (i,j) , (r_i,r_j)) , 'G' )\n",
    "    T = extendRight( ( (i,j) , (r_i,r_j)) , 'T' )\n",
    "    Dollar = extendRight( ( (i,j) , (r_i,r_j)) , '$')\n",
    "    #print A , T, Dollar\n",
    "    L = [isValid(A),isValid(T),isValid(C),isValid(G),isValid(Dollar)]\n",
    "    return sum(L) >= 2\n",
    "\n",
    "#print isRightMaximal(((21, 21), (4, 4)))"
   ]
  },
  {
   "cell_type": "code",
   "execution_count": 8,
   "metadata": {
    "collapsed": false
   },
   "outputs": [
    {
     "name": "stdout",
     "output_type": "stream",
     "text": [
      "1 2\n",
      "2 4\n",
      "3 6\n",
      "4 10\n",
      "5 15\n",
      "6 17\n",
      "7 17\n",
      "8 16\n",
      "9 15\n",
      "10 14\n",
      "11 13\n",
      "12 12\n",
      "13 11\n",
      "14 10\n",
      "15 9\n",
      "16 8\n",
      "17 7\n",
      "18 6\n",
      "19 5\n",
      "20 4\n",
      "21 3\n",
      "22 2\n",
      "23 1\n"
     ]
    }
   ],
   "source": [
    "def stackKey(( (i,j) , (r_i,r_j) ) ):\n",
    "    return max((j-i),(r_j - r_i))\n",
    "\n",
    "def markKmer(k,n):\n",
    "    stack = []\n",
    "    stack.append( (( (1,n) , (1,n) ) , 0 ) )\n",
    "    B = [0] * (n+1)\n",
    "    count = 0\n",
    "    while stack:\n",
    "        (intervals, depth) = stack.pop()\n",
    "        if depth < k:\n",
    "            for c in Alphabet:\n",
    "                ((i, j), (r_i, r_j))= extendRight( intervals , c )\n",
    "                if j >= i:\n",
    "                    B[i] = 1\n",
    "        tempstack = []\n",
    "        for c in Alphabet:\n",
    "            intervals_left = extendLeft( intervals , c )\n",
    "            if isRightMaximal(intervals_left) :\n",
    "                tempstack.append( ( intervals_left , depth + 1 ) )\n",
    "        tempstack = sorted(tempstack, key = lambda x: stackKey(x[0]), reverse = True)\n",
    "        stack.extend(tempstack)\n",
    "\n",
    "    return sum(B) - k\n",
    "\n",
    "for k in range(1,24):\n",
    "    print k, markKmer(k, N)"
   ]
  },
  {
   "cell_type": "code",
   "execution_count": null,
   "metadata": {
    "collapsed": true
   },
   "outputs": [],
   "source": []
  }
 ],
 "metadata": {
  "kernelspec": {
   "display_name": "Python 2",
   "language": "python",
   "name": "python2"
  },
  "language_info": {
   "codemirror_mode": {
    "name": "ipython",
    "version": 2
   },
   "file_extension": ".py",
   "mimetype": "text/x-python",
   "name": "python",
   "nbconvert_exporter": "python",
   "pygments_lexer": "ipython2",
   "version": "2.7.10"
  }
 },
 "nbformat": 4,
 "nbformat_minor": 0
}
